{
 "cells": [
  {
   "cell_type": "markdown",
   "id": "bf6128ba",
   "metadata": {},
   "source": [
    "## Initialization"
   ]
  },
  {
   "cell_type": "markdown",
   "id": "cc73f2ab",
   "metadata": {},
   "source": [
    "Make sure to use Python 3.10.x or above and that your .env file is in your root folder"
   ]
  },
  {
   "cell_type": "code",
   "execution_count": null,
   "id": "636b077e",
   "metadata": {},
   "outputs": [],
   "source": [
    "# Install the python-dotenv package to load environment variables easily\n",
    "!pip install python-dotenv"
   ]
  },
  {
   "cell_type": "code",
   "execution_count": null,
   "id": "8bda58f0",
   "metadata": {},
   "outputs": [],
   "source": [
    "# Install the generative-ai-hub-sdk package with all optional dependencies\n",
    "!pip install \"generative-ai-hub-sdk[all]\""
   ]
  },
  {
   "cell_type": "markdown",
   "id": "1f233224",
   "metadata": {},
   "source": [
    "Now restart your kernel\n"
   ]
  },
  {
   "cell_type": "code",
   "execution_count": null,
   "id": "1b033f25",
   "metadata": {},
   "outputs": [],
   "source": [
    "# Import necessary modules and initialize proxy client\n",
    "from dotenv import load_dotenv\n",
    "from gen_ai_hub.proxy.core.proxy_clients import get_proxy_client\n",
    "\n",
    "# Load environment variables from .env file\n",
    "load_dotenv()  # Load .env file with proxy config\n",
    "\n",
    "# Initialize proxy client\n",
    "proxy_client = get_proxy_client()\n"
   ]
  },
  {
   "cell_type": "markdown",
   "id": "3fdc33a0",
   "metadata": {},
   "source": [
    "## Completions"
   ]
  },
  {
   "cell_type": "code",
   "execution_count": null,
   "id": "b657fdbd",
   "metadata": {},
   "outputs": [],
   "source": [
    "# Use generative AI to complete a given prompt\n",
    "from gen_ai_hub.proxy.native.openai import completions\n",
    "\n",
    "# Call the completion API with model name and prompt\n",
    "response = completions.create(\n",
    "    model_name=\"meta--llama3.1-70b-instruct\",\n",
    "    prompt=\"The Answer to the Ultimate Question of Life, the Universe, and Everything is\",\n",
    "    max_tokens=20,\n",
    "    temperature=0  # Setting temperature to 0 for deterministic response\n",
    ")\n",
    "# Print the completion result\n",
    "print(response)"
   ]
  },
  {
   "cell_type": "code",
   "execution_count": null,
   "id": "757aff4e",
   "metadata": {},
   "outputs": [],
   "source": [
    "# Use generative AI for a simulated chat using a chat model\n",
    "from gen_ai_hub.proxy.native.openai import chat\n",
    "\n",
    "# Define conversation messages\n",
    "messages = [{\"role\": \"system\", \"content\": \"You are a helpful assistant.\"},\n",
    "            {\"role\": \"user\", \"content\": \"Does Azure OpenAI support customer managed keys?\"},\n",
    "            {\"role\": \"assistant\", \"content\": \"Yes, customer managed keys are supported by Azure OpenAI.\"},\n",
    "            {\"role\": \"user\", \"content\": \"Do other Azure Cognitive Services support this too?\"}]\n",
    "\n",
    "# Define keyword arguments for the chat model\n",
    "kwargs = dict(model_name='gpt-4o-mini', messages=messages)\n",
    "\n",
    "# Call the chat completion API\n",
    "response = chat.completions.create(**kwargs)\n",
    "\n",
    "# Print the chat response\n",
    "print(response)"
   ]
  },
  {
   "cell_type": "markdown",
   "id": "1cdaa619",
   "metadata": {},
   "source": [
    "## Embeddings"
   ]
  },
  {
   "cell_type": "code",
   "execution_count": null,
   "id": "6e0df06a",
   "metadata": {},
   "outputs": [],
   "source": [
    "# Generate embeddings for a given text\n",
    "from gen_ai_hub.proxy.langchain.init_models import init_embedding_model\n",
    "\n",
    "# Text for which embeddings need to be generated\n",
    "text = 'Every decoding is another encoding.'\n",
    "\n",
    "# Initialize embedding model\n",
    "embeddings = init_embedding_model('text-embedding-ada-002')\n",
    "\n",
    "# Generate embeddings for the text query\n",
    "response = embeddings.embed_query(text)\n",
    "# Print the generated embeddings\n",
    "print(response)"
   ]
  },
  {
   "cell_type": "markdown",
   "id": "7e95a0be",
   "metadata": {},
   "source": [
    "## Langchain Integration"
   ]
  },
  {
   "cell_type": "markdown",
   "id": "f4985f45",
   "metadata": {},
   "source": [
    "### LLM"
   ]
  },
  {
   "cell_type": "code",
   "execution_count": null,
   "id": "f0bb0474",
   "metadata": {},
   "outputs": [],
   "source": [
    "# Integrate with Langchain for large language models\n",
    "from langchain import PromptTemplate\n",
    "\n",
    "# Import the Langchain class representing the AICore OpenAI models\n",
    "from gen_ai_hub.proxy.langchain.openai import OpenAI\n",
    "from gen_ai_hub.proxy.core.proxy_clients import get_proxy_client\n",
    "\n",
    "# Initialize the proxy client\n",
    "proxy_client = get_proxy_client('gen-ai-hub')\n",
    "# Specify non-chat model\n",
    "model_name = \"meta--llama3.1-70b-instruct\"\n",
    "\n",
    "# Create an OpenAI object from Langchain using the model and proxy client\n",
    "llm = OpenAI(proxy_model_name=model_name, proxy_client=proxy_client)  # can be used as usual with Langchain\n",
    "\n",
    "# Define the prompt template\n",
    "template = \"\"\"Question: {question}\n",
    "\n",
    "Answer: Let's think step by step.\"\"\"\n",
    "\n",
    "# Create Langchain prompt template\n",
    "prompt = PromptTemplate(template=template, input_variables=[\"question\"])\n",
    "llm_chain = prompt | llm\n",
    "\n",
    "# Define a question for the Langchain model\n",
    "question = \"What NFL team won the Super Bowl in the year Justin Bieber was born?\"\n",
    "\n",
    "# Invoke the model with the given question and print the response\n",
    "print(llm_chain.invoke({'question': question}))"
   ]
  },
  {
   "cell_type": "markdown",
   "id": "d2b4dfd9",
   "metadata": {},
   "source": [
    "### Chat model"
   ]
  },
  {
   "cell_type": "code",
   "execution_count": null,
   "id": "0f138ecd",
   "metadata": {},
   "outputs": [],
   "source": [
    "# Integrate with Langchain for chat models\n",
    "from langchain.prompts.chat import (\n",
    "    AIMessagePromptTemplate,\n",
    "    ChatPromptTemplate,\n",
    "    HumanMessagePromptTemplate,\n",
    "    SystemMessagePromptTemplate,\n",
    ")\n",
    "\n",
    "# Import the Chat model from Langchain\n",
    "from gen_ai_hub.proxy.langchain.openai import ChatOpenAI\n",
    "from gen_ai_hub.proxy.core.proxy_clients import get_proxy_client\n",
    "\n",
    "# Initialize the proxy client\n",
    "proxy_client = get_proxy_client('gen-ai-hub')\n",
    "\n",
    "# Create a ChatOpenAI object from Langchain using the model and proxy client\n",
    "chat_llm = ChatOpenAI(proxy_model_name='gpt-4o-mini', proxy_client=proxy_client)\n",
    "template = 'You are a helpful assistant that translates English to pirate.'\n",
    "\n",
    "# Define system message prompt\n",
    "system_message_prompt = SystemMessagePromptTemplate.from_template(template)\n",
    "\n",
    "# Example conversation prompt templates\n",
    "example_human = HumanMessagePromptTemplate.from_template('Hi')\n",
    "example_ai = AIMessagePromptTemplate.from_template('Ahoy!')\n",
    "human_template = '{text}'\n",
    "\n",
    "# Define human message prompt\n",
    "human_message_prompt = HumanMessagePromptTemplate.from_template(human_template)\n",
    "# Create chat prompt template from message prompts\n",
    "chat_prompt = ChatPromptTemplate.from_messages(\n",
    "    [system_message_prompt, example_human, example_ai, human_message_prompt])\n",
    "\n",
    "# Create Langchain chain with chat prompt and chat model\n",
    "chain = chat_prompt | chat_llm\n",
    "\n",
    "# Invoke the chat model with user input and print the response\n",
    "response = chain.invoke({'text': 'I love planking.'})\n",
    "print(response.content)"
   ]
  },
  {
   "cell_type": "markdown",
   "id": "0e9acf15",
   "metadata": {},
   "source": [
    "### Embeddings"
   ]
  },
  {
   "cell_type": "code",
   "execution_count": null,
   "id": "e58951fe",
   "metadata": {},
   "outputs": [],
   "source": [
    "# Generate embeddings using Langchain model\n",
    "from gen_ai_hub.proxy.langchain.openai import OpenAIEmbeddings\n",
    "from gen_ai_hub.proxy.core.proxy_clients import get_proxy_client\n",
    "\n",
    "# Initialize the proxy client\n",
    "proxy_client = get_proxy_client('gen-ai-hub')\n",
    "\n",
    "# Create an OpenAIEmbeddings object from Langchain with the model and proxy client\n",
    "embedding_model = OpenAIEmbeddings(proxy_model_name='text-embedding-ada-002', proxy_client=proxy_client)\n",
    "\n",
    "# Generate and print embeddings for a text query\n",
    "response = embedding_model.embed_query('Every decoding is another encoding.')\n",
    "print(response)\n",
    "\n",
    "# Call the embedding model without passing proxy client\n",
    "embedding_model = OpenAIEmbeddings(proxy_model_name='text-embedding-ada-002')\n",
    "\n",
    "# Generate and print embeddings for a text query\n",
    "response = embedding_model.embed_query('Every decoding is another encoding.')\n",
    "print(response)"
   ]
  },
  {
   "cell_type": "markdown",
   "id": "8db24abb",
   "metadata": {},
   "source": [
    "## Streaming"
   ]
  },
  {
   "cell_type": "code",
   "execution_count": null,
   "id": "2ab83bcd",
   "metadata": {},
   "outputs": [],
   "source": [
    "# Define a function to stream responses from OpenAI models via generative AI\n",
    "from gen_ai_hub.proxy.native.openai import chat\n",
    "\n",
    "def stream_openai(prompt, model_name='gpt-4o'):\n",
    "    # Set up a conversation with initial system and user messages\n",
    "    messages = [\n",
    "        {\"role\": \"system\", \"content\": \"You are a helpful assistant.\"},\n",
    "        {\"role\": \"user\", \"content\": prompt}\n",
    "    ]\n",
    "    \n",
    "    # Define keyword arguments for streaming response\n",
    "    kwargs = dict(model_name=model_name, messages=messages, stream=True)\n",
    "    # Create a stream for the chat completion\n",
    "    stream = chat.completions.create(**kwargs)\n",
    "    \n",
    "    # Iterate over the stream and print response chunks\n",
    "    for chunk in stream:\n",
    "        if chunk.choices:\n",
    "            content = chunk.choices[0].delta.content\n",
    "            if content:\n",
    "                print(content, end='')"
   ]
  },
  {
   "cell_type": "code",
   "execution_count": null,
   "id": "cb6ad5c4",
   "metadata": {},
   "outputs": [],
   "source": [
    "stream_openai(\"Why is the sky blue?\")"
   ]
  },
  {
   "cell_type": "code",
   "execution_count": null,
   "id": "a7783986",
   "metadata": {},
   "outputs": [],
   "source": [
    "# Define a function to stream responses from Google's Gemini models\n",
    "from gen_ai_hub.proxy.native.google_vertexai.clients import GenerativeModel\n",
    "from vertexai.generative_models import GenerationConfig\n",
    "\n",
    "def stream_gemini(prompt, model_name='gemini-1.5-pro'):\n",
    "    # Set up generation config with max tokens\n",
    "    generation_config = GenerationConfig(max_output_tokens=500)\n",
    "    # Initialize the GenerativeModel\n",
    "    model = GenerativeModel(model_name=model_name, generation_config=generation_config)\n",
    "    # Create a content generation stream\n",
    "    stream = model.generate_content(prompt, stream=True)\n",
    "    \n",
    "    # Iterate over the stream and print response text\n",
    "    for chunk in stream:\n",
    "        print(chunk.text, end='')    "
   ]
  },
  {
   "cell_type": "code",
   "execution_count": null,
   "id": "9255a1e2",
   "metadata": {},
   "outputs": [],
   "source": [
    "# Execute the stream_gemini function with a given prompt\n",
    "stream_gemini(\"Why is the sky blue?\")"
   ]
  },
  {
   "cell_type": "code",
   "execution_count": null,
   "id": "49da00f7",
   "metadata": {},
   "outputs": [],
   "source": [
    "# Define a function to stream responses from Amazon's Claude model\n",
    "import json\n",
    "from gen_ai_hub.proxy.native.amazon.clients import Session\n",
    "\n",
    "def stream_claude(prompt, model_name='anthropic--claude-3-haiku'):\n",
    "    # Initialize Bedrock session client\n",
    "    bedrock = Session().client(model_name=model_name)\n",
    "    # Define request body with message and configuration\n",
    "    body = json.dumps({\n",
    "      \"max_tokens\": 500,\n",
    "      \"messages\": [{\"role\": \"user\", \"content\": prompt}],\n",
    "      \"anthropic_version\": \"bedrock-2023-05-31\"\n",
    "    })\n",
    "    \n",
    "    # Invoke model and get response stream\n",
    "    response = bedrock.invoke_model_with_response_stream(body=body)\n",
    "    stream = response.get(\"body\")\n",
    "    \n",
    "    # Iterate over the stream and print response text\n",
    "    for event in stream:\n",
    "        chunk = json.loads(event[\"chunk\"][\"bytes\"])\n",
    "        if chunk[\"type\"] == \"content_block_delta\":\n",
    "          print(chunk[\"delta\"].get(\"text\", \"\"), end=\"\")"
   ]
  },
  {
   "cell_type": "code",
   "execution_count": null,
   "id": "84225a91",
   "metadata": {},
   "outputs": [],
   "source": [
    "# Execute the stream_claude function with a given prompt\n",
    "stream_claude(\"Why is the sky blue?\")"
   ]
  },
  {
   "cell_type": "code",
   "execution_count": null,
   "id": "9cc53844",
   "metadata": {},
   "outputs": [],
   "source": [
    "# Define a function to stream responses from Amazon's Titan models\n",
    "def stream_titan(prompt, model_name='amazon--titan-text-lite'):\n",
    "    # Initialize Bedrock session client\n",
    "    bedrock = Session().client(model_name=model_name)\n",
    "    # Define request body with input text and generation configuration\n",
    "    body = json.dumps({\n",
    "        \"inputText\": prompt,\n",
    "        \"textGenerationConfig\": {\n",
    "            \"maxTokenCount\": 500\n",
    "        }\n",
    "    })\n",
    "    \n",
    "    # Invoke model and get response stream\n",
    "    response = bedrock.invoke_model_with_response_stream(body=body)\n",
    "    stream = response.get(\"body\")\n",
    "    \n",
    "    # Iterate over the stream and print response text\n",
    "    for event in stream:\n",
    "        chunk = json.loads(event[\"chunk\"][\"bytes\"])\n",
    "        if \"outputText\" in chunk:\n",
    "            print(chunk[\"outputText\"])"
   ]
  },
  {
   "cell_type": "code",
   "execution_count": null,
   "id": "dc78f44a",
   "metadata": {},
   "outputs": [],
   "source": [
    "# Execute the stream_titan function with a given prompt\n",
    "stream_titan(\"Why is the sky blue?\")"
   ]
  },
  {
   "cell_type": "code",
   "execution_count": null,
   "id": "3e3f69a0",
   "metadata": {},
   "outputs": [],
   "source": [
    "# Define a function to stream responses using Langchain\n",
    "from gen_ai_hub.proxy.langchain import init_llm\n",
    "\n",
    "def stream_langchain(prompt, model_name):\n",
    "    # Initialize Langchain model with specified parameters\n",
    "    llm = init_llm(model_name=model_name, max_tokens=500)\n",
    "    \n",
    "    # Iterate over the stream and print response content\n",
    "    for chunk in llm.stream(prompt):\n",
    "        print(chunk.content, end='')"
   ]
  },
  {
   "cell_type": "code",
   "execution_count": null,
   "id": "dc570ba0",
   "metadata": {},
   "outputs": [],
   "source": [
    "# Execute the stream_langchain function for gpt-4o-mini model with a given prompt\n",
    "stream_langchain(\"How do airplanes stay in the air?\", model_name='gpt-4o-mini')"
   ]
  },
  {
   "cell_type": "code",
   "execution_count": null,
   "id": "18536f2d",
   "metadata": {},
   "outputs": [],
   "source": [
    "# Execute the stream_langchain function for gemini-1.5-pro model with a given prompt\n",
    "stream_langchain(\"How do airplanes stay in the air?\", model_name='gemini-1.5-pro')"
   ]
  },
  {
   "cell_type": "code",
   "execution_count": null,
   "id": "e20558f2",
   "metadata": {},
   "outputs": [],
   "source": [
    "# Execute the stream_langchain function for Anthropic's Claude model with a given prompt\n",
    "stream_langchain(\"How do airplanes stay in the air?\", model_name='anthropic--claude-3-haiku')"
   ]
  },
  {
   "cell_type": "code",
   "execution_count": null,
   "id": "e18ce4f3",
   "metadata": {},
   "outputs": [],
   "source": [
    "# Execute the stream_langchain function for Amazon's Titan model with a given prompt\n",
    "stream_langchain(\"How do airplanes stay in the air?\", model_name='amazon--titan-text-lite')"
   ]
  }
 ],
 "metadata": {
  "kernelspec": {
   "display_name": "Python 3",
   "language": "python",
   "name": "python3"
  },
  "language_info": {
   "codemirror_mode": {
    "name": "ipython",
    "version": 3
   },
   "file_extension": ".py",
   "mimetype": "text/x-python",
   "name": "python",
   "nbconvert_exporter": "python",
   "pygments_lexer": "ipython3",
   "version": "3.11.12"
  }
 },
 "nbformat": 4,
 "nbformat_minor": 5
}
